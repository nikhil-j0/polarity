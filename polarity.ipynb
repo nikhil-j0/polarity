{
 "cells": [
  {
   "cell_type": "code",
   "execution_count": 1,
   "id": "dcbffb03",
   "metadata": {},
   "outputs": [
    {
     "name": "stdout",
     "output_type": "stream",
     "text": [
      "Collecting nltk\n",
      "  Downloading nltk-3.8.1-py3-none-any.whl (1.5 MB)\n",
      "     ---------------------------------------- 1.5/1.5 MB 214.3 kB/s eta 0:00:00\n",
      "Collecting regex>=2021.8.3\n",
      "  Downloading regex-2023.5.5-cp310-cp310-win_amd64.whl (267 kB)\n",
      "     ------------------------------------ 267.9/267.9 kB 206.1 kB/s eta 0:00:00\n",
      "Requirement already satisfied: joblib in c:\\users\\nikhil\\ml\\data_science\\env\\lib\\site-packages (from nltk) (1.1.1)\n",
      "Collecting tqdm\n",
      "  Downloading tqdm-4.65.0-py3-none-any.whl (77 kB)\n",
      "     -------------------------------------- 77.1/77.1 kB 285.7 kB/s eta 0:00:00\n",
      "Collecting click\n",
      "  Using cached click-8.1.3-py3-none-any.whl (96 kB)\n",
      "Requirement already satisfied: colorama in c:\\users\\nikhil\\ml\\data_science\\env\\lib\\site-packages (from click->nltk) (0.4.6)\n",
      "Installing collected packages: tqdm, regex, click, nltk\n",
      "Successfully installed click-8.1.3 nltk-3.8.1 regex-2023.5.5 tqdm-4.65.0\n",
      "Note: you may need to restart the kernel to use updated packages.\n"
     ]
    }
   ],
   "source": [
    "pip install nltk"
   ]
  },
  {
   "cell_type": "code",
   "execution_count": 5,
   "id": "16240e0c",
   "metadata": {},
   "outputs": [],
   "source": [
    "import nltk\n",
    "# nltk.download()"
   ]
  },
  {
   "cell_type": "code",
   "execution_count": 6,
   "id": "3ba0c2ba",
   "metadata": {},
   "outputs": [
    {
     "name": "stderr",
     "output_type": "stream",
     "text": [
      "[nltk_data] Downloading package punkt to\n",
      "[nltk_data]     C:\\Users\\NIKHIL\\AppData\\Roaming\\nltk_data...\n",
      "[nltk_data]   Unzipping tokenizers\\punkt.zip.\n",
      "[nltk_data] Downloading package stopwords to\n",
      "[nltk_data]     C:\\Users\\NIKHIL\\AppData\\Roaming\\nltk_data...\n",
      "[nltk_data]   Package stopwords is already up-to-date!\n"
     ]
    },
    {
     "data": {
      "text/plain": [
       "True"
      ]
     },
     "execution_count": 6,
     "metadata": {},
     "output_type": "execute_result"
    }
   ],
   "source": [
    "nltk.download('punkt')              #stopwords looping\n",
    "nltk.download('stopwords')        #unwanted words remover"
   ]
  },
  {
   "cell_type": "code",
   "execution_count": 8,
   "id": "fda667b6",
   "metadata": {},
   "outputs": [
    {
     "name": "stdout",
     "output_type": "stream",
     "text": [
      "Document polarity: Negative\n"
     ]
    }
   ],
   "source": [
    "from nltk.tokenize import word_tokenize\n",
    "from nltk.corpus import stopwords\n",
    "\n",
    "positive_words = ['good', 'nice', 'excellent', 'positive']\n",
    "negative_words = ['bad', 'awful', 'terrible', 'negative']\n",
    "\n",
    "def calculate_polarity(document):\n",
    "    # Tokenize the document into individual words\n",
    "    words = word_tokenize(document.lower())\n",
    "\n",
    "    # Remove stopwords (common words that do not contribute to sentiment)\n",
    "    stop_words = set(stopwords.words('english'))\n",
    "    words = [word for word in words if word not in stop_words]\n",
    "\n",
    "    # Calculate the polarity score\n",
    "    polarity_score = 0\n",
    "    for word in words:\n",
    "        if word in positive_words:\n",
    "            polarity_score += 1\n",
    "        elif word in negative_words:\n",
    "            polarity_score -= 1\n",
    "\n",
    "    # Determine the overall sentiment based on polarity score\n",
    "    if polarity_score > 0:\n",
    "        return 'Positive'\n",
    "    elif polarity_score < 0:\n",
    "        return 'Negative'\n",
    "    else:\n",
    "        return 'Neutral'\n",
    "\n",
    "# Example usage\n",
    "document = \"The movie was really good and the acting was pathetic.\"\n",
    "polarity = calculate_polarity(document)\n",
    "print(\"Document polarity:\", polarity)"
   ]
  },
  {
   "cell_type": "code",
   "execution_count": null,
   "id": "7afd6a8d",
   "metadata": {},
   "outputs": [],
   "source": []
  }
 ],
 "metadata": {
  "kernelspec": {
   "display_name": "Python 3 (ipykernel)",
   "language": "python",
   "name": "python3"
  },
  "language_info": {
   "codemirror_mode": {
    "name": "ipython",
    "version": 3
   },
   "file_extension": ".py",
   "mimetype": "text/x-python",
   "name": "python",
   "nbconvert_exporter": "python",
   "pygments_lexer": "ipython3",
   "version": "3.10.9"
  }
 },
 "nbformat": 4,
 "nbformat_minor": 5
}
